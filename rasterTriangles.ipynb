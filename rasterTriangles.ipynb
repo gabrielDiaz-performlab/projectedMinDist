{
 "cells": [
  {
   "cell_type": "code",
   "execution_count": 1,
   "metadata": {},
   "outputs": [
    {
     "data": {
      "text/html": [
       "<script>requirejs.config({paths: { 'plotly': ['https://cdn.plot.ly/plotly-latest.min']},});if(!window.Plotly) {{require(['plotly'],function(plotly) {window.Plotly=plotly;});}}</script>"
      ],
      "text/vnd.plotly.v1+html": [
       "<script>requirejs.config({paths: { 'plotly': ['https://cdn.plot.ly/plotly-latest.min']},});if(!window.Plotly) {{require(['plotly'],function(plotly) {window.Plotly=plotly;});}}</script>"
      ]
     },
     "metadata": {},
     "output_type": "display_data"
    }
   ],
   "source": [
    "from plyfile import PlyData, PlyElement\n",
    "from plotly.graph_objs import *\n",
    "import math\n",
    "import numpy as np\n",
    "from plotly.offline import download_plotlyjs, init_notebook_mode, plot, iplot\n",
    "init_notebook_mode(connected=True)"
   ]
  },
  {
   "cell_type": "code",
   "execution_count": 2,
   "metadata": {},
   "outputs": [
    {
     "data": {
      "text/plain": [
       "array([0, 1, 2], dtype=int32)"
      ]
     },
     "execution_count": 2,
     "metadata": {},
     "output_type": "execute_result"
    }
   ],
   "source": [
    "\n",
    "plydata = PlyData.read('../ply/cow2.ply')\n",
    "\n",
    "nr_points=plydata.elements[0].count\n",
    "nr_faces=plydata.elements[1].count\n",
    "\n",
    "# unpack vertices to array\n",
    "vertices_pt_xyz =np.array([plydata['vertex'][k] for k in range(nr_points)])\n",
    "x,y,z=zip(*vertices_pt_xyz)\n",
    "\n",
    "# unpack faces to array\n",
    "faces_pt_3v = [plydata['face'][k][0] for k in range(nr_faces)]\n",
    "faces_pt_3v[0]\n",
    "\n",
    "\n",
    "points=np.array([plydata['vertex'][k] for k in range(nr_points)])\n",
    "x,y,z=zip(*points)\n",
    "\n",
    "faces=[plydata['face'][k][0] for k in range(nr_faces)]\n",
    "faces[0]"
   ]
  },
  {
   "cell_type": "code",
   "execution_count": 3,
   "metadata": {
    "collapsed": true
   },
   "outputs": [],
   "source": [
    "import numpy as np\n",
    "import matplotlib.cm as cm\n",
    "from scipy.spatial import Delaunay\n",
    "\n",
    "def map_z2color(zval, colormap, vmin, vmax):\n",
    "    #map the normalized value val to a corresponding color in the mpl colormap\n",
    "    \n",
    "    if vmin>=vmax:\n",
    "        raise ValueError('incorrect relation between vmin and vmax')\n",
    "    t=(zval-vmin)/float((vmax-vmin))#normalize val\n",
    "    C=map(np.uint8, np.array(colormap(t)[:3])*255)\n",
    "    #convert to a Plotly color code:\n",
    "    return 'rgb'+str((C[0], C[1], C[2]))\n",
    "\n",
    "def mpl_to_plotly(cmap, pl_entries):\n",
    "    h=1.0/(pl_entries-1)\n",
    "    pl_colorscale=[]\n",
    "    for k in range(pl_entries):\n",
    "        C=map(np.uint8, np.array(cmap(k*h)[:3])*255)\n",
    "        pl_colorscale.append([k*h, 'rgb'+str((C[0], C[1], C[2]))])\n",
    "    return pl_colorscale\n",
    "\n",
    "def plotly_trisurf(x, y, z, simplices, colormap=cm.RdBu, showcolorbar=False, plot_edges=None):\n",
    "    #x, y, z are lists of coordinates of the triangle vertices \n",
    "    #simplices are the simplices that define the triangulation;\n",
    "    #simplices  is a numpy array of shape (no_triangles, 3)\n",
    "    #insert here the  type check for input data\n",
    "    \n",
    "    points3D=np.vstack((x,y,z)).T\n",
    "    tri_vertices= points3D[simplices]# vertices of the surface triangles  \n",
    "    zmean=tri_vertices[:, :, 2].mean(-1)# mean values of z-coordinates of the\n",
    "                                        #triangle vertices\n",
    "      \n",
    "    min_zmean, max_zmean=np.min(zmean), np.max(zmean)\n",
    "    \n",
    "    facecolor=[map_z2color(zz,  colormap, min_zmean, max_zmean) for zz in zmean]\n",
    "    I,J,K=zip(*simplices)\n",
    "    \n",
    "    triangles=Mesh3d(x=x,\n",
    "                     y=y,\n",
    "                     z=z,\n",
    "                     facecolor=facecolor, \n",
    "                     i=I,\n",
    "                     j=J,\n",
    "                     k=K,\n",
    "                     name=''\n",
    "                    )\n",
    "    \n",
    "    if showcolorbar==True:\n",
    "        pl_colorsc=mpl_to_plotly(colormap,11)\n",
    "        # define a fake Scatter3d trace in order to enable displaying the colorbar for the trisurf\n",
    "        \n",
    "        colorbar=Scatter3d(x=x[:2],\n",
    "                           y=y[:2],\n",
    "                           z=z[:2],\n",
    "                           mode='markers',\n",
    "                           marker=dict(size=0.1, color=[min_zmean, max_zmean], \n",
    "                                      colorscale=pl_colorsc, showscale=True),\n",
    "                             hoverinfo='None'\n",
    "                          )\n",
    "    \n",
    "    \n",
    "    if plot_edges is None: # the triangle sides are not plotted \n",
    "        if  showcolorbar is True:\n",
    "            return Data([colorbar, triangles])\n",
    "        else: \n",
    "            return  Data([triangles])\n",
    "    else:#plot edges\n",
    "        #define the lists Xe, Ye, Ze, of x, y, resp z coordinates of edge end points for each triangle\n",
    "        #None separates data corresponding to two consecutive triangles\n",
    "        Xe=[]\n",
    "        Ye=[]\n",
    "        Ze=[]\n",
    "        for T in tri_vertices:\n",
    "            Xe+=[T[k%3][0] for k in range(4)]+[ None]\n",
    "            Ye+=[T[k%3][1] for k in range(4)]+[ None]\n",
    "            Ze+=[T[k%3][2] for k in range(4)]+[ None]\n",
    "       \n",
    "        #define the lines to be plotted\n",
    "        lines=Scatter3d(x=Xe,\n",
    "                        y=Ye,\n",
    "                        z=Ze,\n",
    "                        mode='lines',\n",
    "                        line=Line(color= 'rgb(50,50,50)', width=1.5)\n",
    "               )\n",
    "        if  showcolorbar is True:\n",
    "            return Data([colorbar, triangles, lines])\n",
    "        else: \n",
    "            \n",
    "            return Data([triangles, lines])"
   ]
  },
  {
   "cell_type": "code",
   "execution_count": 4,
   "metadata": {},
   "outputs": [
    {
     "ename": "PlotlyListEntryError",
     "evalue": "Invalid entry found in 'data' at index, '0'\n\nPath To Error: [0]\n\nValid items for 'data' at path [] under parents []:\n    ['Area', 'Bar', 'Box', 'Candlestick', 'Carpet', 'Choropleth',\n    'Contour', 'Contourcarpet', 'Heatmap', 'Heatmapgl', 'Histogram',\n    'Histogram2d', 'Histogram2dcontour', 'Mesh3d', 'Ohlc', 'Parcoords',\n    'Pie', 'Pointcloud', 'Scatter', 'Scatter3d', 'Scattercarpet',\n    'Scattergeo', 'Scattergl', 'Scattermapbox', 'Scatterternary',\n    'Surface']\n\nEntry should subclass dict.",
     "output_type": "error",
     "traceback": [
      "\u001b[0;31m---------------------------------------------------------------------------\u001b[0m",
      "\u001b[0;31mPlotlyListEntryError\u001b[0m                      Traceback (most recent call last)",
      "\u001b[0;32m<ipython-input-4-3ee69a1670f7>\u001b[0m in \u001b[0;36m<module>\u001b[0;34m()\u001b[0m\n\u001b[1;32m     62\u001b[0m \u001b[0;34m\u001b[0m\u001b[0m\n\u001b[1;32m     63\u001b[0m \u001b[0;34m\u001b[0m\u001b[0m\n\u001b[0;32m---> 64\u001b[0;31m \u001b[0mdata\u001b[0m\u001b[0;34m=\u001b[0m\u001b[0mData\u001b[0m\u001b[0;34m(\u001b[0m\u001b[0;34m[\u001b[0m\u001b[0mcowSurf\u001b[0m\u001b[0;34m,\u001b[0m\u001b[0mxMark\u001b[0m\u001b[0;34m,\u001b[0m\u001b[0myMark\u001b[0m\u001b[0;34m,\u001b[0m\u001b[0mzMark\u001b[0m\u001b[0;34m]\u001b[0m\u001b[0;34m)\u001b[0m\u001b[0;34m\u001b[0m\u001b[0m\n\u001b[0m\u001b[1;32m     65\u001b[0m \u001b[0;34m\u001b[0m\u001b[0m\n\u001b[1;32m     66\u001b[0m noaxis=dict(showbackground=False,\n",
      "\u001b[0;32m/Users/gjdiaz/anaconda/lib/python2.7/site-packages/plotly/graph_objs/graph_objs.pyc\u001b[0m in \u001b[0;36m__init__\u001b[0;34m(self, *args, **kwargs)\u001b[0m\n\u001b[1;32m    156\u001b[0m \u001b[0;34m\u001b[0m\u001b[0m\n\u001b[1;32m    157\u001b[0m         \u001b[0;32mfor\u001b[0m \u001b[0mindex\u001b[0m\u001b[0;34m,\u001b[0m \u001b[0mvalue\u001b[0m \u001b[0;32min\u001b[0m \u001b[0menumerate\u001b[0m\u001b[0;34m(\u001b[0m\u001b[0mlist\u001b[0m\u001b[0;34m(\u001b[0m\u001b[0;34m*\u001b[0m\u001b[0margs\u001b[0m\u001b[0;34m)\u001b[0m\u001b[0;34m)\u001b[0m\u001b[0;34m:\u001b[0m\u001b[0;34m\u001b[0m\u001b[0m\n\u001b[0;32m--> 158\u001b[0;31m             \u001b[0mvalue\u001b[0m \u001b[0;34m=\u001b[0m \u001b[0mself\u001b[0m\u001b[0;34m.\u001b[0m\u001b[0m_value_to_graph_object\u001b[0m\u001b[0;34m(\u001b[0m\u001b[0mindex\u001b[0m\u001b[0;34m,\u001b[0m \u001b[0mvalue\u001b[0m\u001b[0;34m,\u001b[0m \u001b[0m_raise\u001b[0m\u001b[0;34m=\u001b[0m\u001b[0m_raise\u001b[0m\u001b[0;34m)\u001b[0m\u001b[0;34m\u001b[0m\u001b[0m\n\u001b[0m\u001b[1;32m    159\u001b[0m \u001b[0;34m\u001b[0m\u001b[0m\n\u001b[1;32m    160\u001b[0m             \u001b[0;32mif\u001b[0m \u001b[0misinstance\u001b[0m\u001b[0;34m(\u001b[0m\u001b[0mvalue\u001b[0m\u001b[0;34m,\u001b[0m \u001b[0mPlotlyBase\u001b[0m\u001b[0;34m)\u001b[0m\u001b[0;34m:\u001b[0m\u001b[0;34m\u001b[0m\u001b[0m\n",
      "\u001b[0;32m/Users/gjdiaz/anaconda/lib/python2.7/site-packages/plotly/graph_objs/graph_objs.pyc\u001b[0m in \u001b[0;36m_value_to_graph_object\u001b[0;34m(self, index, value, _raise)\u001b[0m\n\u001b[1;32m   1036\u001b[0m                 \u001b[0mpath\u001b[0m \u001b[0;34m=\u001b[0m \u001b[0mself\u001b[0m\u001b[0;34m.\u001b[0m\u001b[0m_get_path\u001b[0m\u001b[0;34m(\u001b[0m\u001b[0;34m)\u001b[0m \u001b[0;34m+\u001b[0m \u001b[0;34m(\u001b[0m\u001b[0mindex\u001b[0m\u001b[0;34m,\u001b[0m \u001b[0;34m)\u001b[0m\u001b[0;34m\u001b[0m\u001b[0m\n\u001b[1;32m   1037\u001b[0m                 raise exceptions.PlotlyListEntryError(self, path,\n\u001b[0;32m-> 1038\u001b[0;31m                                                       notes=notes)\n\u001b[0m\u001b[1;32m   1039\u001b[0m             \u001b[0;32melse\u001b[0m\u001b[0;34m:\u001b[0m\u001b[0;34m\u001b[0m\u001b[0m\n\u001b[1;32m   1040\u001b[0m                 \u001b[0;32mreturn\u001b[0m\u001b[0;34m\u001b[0m\u001b[0m\n",
      "\u001b[0;31mPlotlyListEntryError\u001b[0m: Invalid entry found in 'data' at index, '0'\n\nPath To Error: [0]\n\nValid items for 'data' at path [] under parents []:\n    ['Area', 'Bar', 'Box', 'Candlestick', 'Carpet', 'Choropleth',\n    'Contour', 'Contourcarpet', 'Heatmap', 'Heatmapgl', 'Histogram',\n    'Histogram2d', 'Histogram2dcontour', 'Mesh3d', 'Ohlc', 'Parcoords',\n    'Pie', 'Pointcloud', 'Scatter', 'Scatter3d', 'Scattercarpet',\n    'Scattergeo', 'Scattergl', 'Scattermapbox', 'Scatterternary',\n    'Surface']\n\nEntry should subclass dict."
     ]
    }
   ],
   "source": [
    "#x,y,z=zip(*vertices_pt_xyz)\n",
    "\n",
    "# points=np.array([plydata['vertex'][k] for k in range(nr_points)])\n",
    "# x,y,z=zip(*points)\n",
    "\n",
    "# faces=[plydata['face'][k][0] for k in range(nr_faces)]\n",
    "# faces[0]\n",
    "\n",
    "cowSurf = plotly_trisurf(x,y,z, faces_pt_3v, colormap=cm.RdBu, plot_edges=None)\n",
    "\n",
    "\n",
    "xMark =Scatter3d(x=[5],\n",
    "            y=[0],\n",
    "            z=[0],\n",
    "            mode='markers',\n",
    "            marker=dict(size=15,color='#f44242')\n",
    "           )\n",
    "\n",
    "yMark =Scatter3d(x=[0],\n",
    "            y=[5],\n",
    "            z=[0],\n",
    "            mode='markers',\n",
    "            marker=dict(size=15,color='#50ed7a')\n",
    "           )\n",
    "\n",
    "zMark =Scatter3d(x=[0],\n",
    "            y=[0],\n",
    "            z=[-5],\n",
    "            mode='markers',\n",
    "            marker=dict(size=15,color='#3f52e2')\n",
    "           )\n",
    "\n",
    "        \n",
    "axis=dict(showbackground=False,\n",
    "          showline=True,  \n",
    "          zeroline=True,\n",
    "          showgrid=True,\n",
    "          showticklabels=True,\n",
    "          title='' \n",
    "          )\n",
    "\n",
    "layout = Layout(title=\"PLY\", \n",
    "                width=800,\n",
    "                height=800,\n",
    "                showlegend=False,\n",
    "                scene=Scene(aspectmode='manual',\n",
    "                            aspectratio=dict(x=1, y=1, z=1),\n",
    "                            xaxis=dict(range=[-10, 10], title='x Axis'),\n",
    "                            yaxis=dict(range=[-10, 10], title='y Axis'),\n",
    "                            zaxis=dict(range=[-20,0], title='z Axis'),\n",
    "                            camera = dict(\n",
    "                                up=dict(x=1, y=0, z=0),\n",
    "                                center=dict(x=0, y=0, z=0),\n",
    "                                eye=dict(x=0, y=0, z=2)\n",
    "                            ),\n",
    "\n",
    "                           ),\n",
    "                margin=Margin(t=100),\n",
    "                hovermode='closest',\n",
    "                \n",
    "                )\n",
    "\n",
    "\n",
    "data=Data([cowSurf,xMark,yMark,zMark])\n",
    "\n",
    "noaxis=dict(showbackground=False,\n",
    "            showline=False,  \n",
    "            zeroline=False,\n",
    "            showgrid=False,\n",
    "            showticklabels=False,\n",
    "            title='' \n",
    "          )\n",
    "\n",
    "fig3 = Figure(data=cowSurf)\n",
    "\n",
    "iplot(fig3)"
   ]
  },
  {
   "cell_type": "code",
   "execution_count": null,
   "metadata": {
    "collapsed": true
   },
   "outputs": [],
   "source": []
  }
 ],
 "metadata": {
  "kernelspec": {
   "display_name": "Python 2",
   "language": "python",
   "name": "python2"
  },
  "language_info": {
   "codemirror_mode": {
    "name": "ipython",
    "version": 2
   },
   "file_extension": ".py",
   "mimetype": "text/x-python",
   "name": "python",
   "nbconvert_exporter": "python",
   "pygments_lexer": "ipython2",
   "version": "2.7.13"
  }
 },
 "nbformat": 4,
 "nbformat_minor": 2
}
